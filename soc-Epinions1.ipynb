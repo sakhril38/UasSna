{
 "cells": [
  {
   "cell_type": "code",
   "execution_count": null,
   "metadata": {},
   "outputs": [],
   "source": [
    "# Relationship between PageRank and DegreeRank\n",
    "# The citation network dataset has been used.\n",
    "# In degree value on x-axis and PageRank value on y-axis\n",
    "\n",
    "\n",
    "import networkx as nx \n",
    "import matplotlib.pyplot as plt \n",
    "def main():\n",
    "    G = nx.read_edgelist('soc-Epinions1.txt', create_using=nx.DiGraph())\n",
    "\n",
    "    deg = dict(G.in_degree())  #Returns a dictionay, with key as nodes and indegrees as values.\n",
    "    pr = nx.pagerank(G)\n",
    "    pr_values = []\n",
    "    for i in deg.keys():\n",
    "        pr_values.append(pr[i])\n",
    "\n",
    "    plt.plot(deg.values(), pr_values, 'ro', markersize = 3)\n",
    "    plt.xlabel('Indegree value of the nodes')\n",
    "    plt.ylabel('PageRank value of the nodes')\n",
    "    plt.show()\n",
    "main()"
   ]
  },
  {
   "cell_type": "code",
   "execution_count": null,
   "metadata": {},
   "outputs": [],
   "source": []
  }
 ],
 "metadata": {
  "kernelspec": {
   "display_name": "Python 3",
   "language": "python",
   "name": "python3"
  },
  "language_info": {
   "codemirror_mode": {
    "name": "ipython",
    "version": 3
   },
   "file_extension": ".py",
   "mimetype": "text/x-python",
   "name": "python",
   "nbconvert_exporter": "python",
   "pygments_lexer": "ipython3",
   "version": "3.6.6"
  }
 },
 "nbformat": 4,
 "nbformat_minor": 2
}
